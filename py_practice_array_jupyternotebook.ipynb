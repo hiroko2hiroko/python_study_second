{
 "cells": [
  {
   "cell_type": "markdown",
   "id": "886b0e21",
   "metadata": {},
   "source": [
    "# 1. 配列の種類\n",
    "ここでは、list, array, series, dataframeのそれぞれの配列をみていきます。"
   ]
  },
  {
   "cell_type": "markdown",
   "id": "5055b1a4",
   "metadata": {},
   "source": [
    "## 1-1. listの例を示します。"
   ]
  },
  {
   "cell_type": "code",
   "execution_count": null,
   "id": "a858001c",
   "metadata": {},
   "outputs": [],
   "source": [
    "list1 = [11, 12, 13]\n",
    "print(list1)"
   ]
  },
  {
   "cell_type": "code",
   "execution_count": null,
   "id": "7418bdb8",
   "metadata": {
    "scrolled": true
   },
   "outputs": [],
   "source": [
    "list2 = [\"A大学\", \"B大学\", \"C大学\"]\n",
    "print(list2)"
   ]
  },
  {
   "cell_type": "code",
   "execution_count": null,
   "id": "4406c703",
   "metadata": {},
   "outputs": [],
   "source": [
    "list3 =  [123, 'abc', 456.789] \n",
    "print(list3)"
   ]
  },
  {
   "cell_type": "code",
   "execution_count": null,
   "id": "bc1d26d6",
   "metadata": {},
   "outputs": [],
   "source": [
    "dict1 = {'a':'ABC', 'b':'BCD', 'c': 'CDE'}\n",
    "print(dict1)"
   ]
  },
  {
   "cell_type": "code",
   "execution_count": null,
   "id": "33f98625",
   "metadata": {},
   "outputs": [],
   "source": [
    "tuple1 = ('AB', 12)\n",
    "print(tuple1)"
   ]
  },
  {
   "cell_type": "markdown",
   "id": "5550c3ff",
   "metadata": {},
   "source": [
    "**まとめ**\n",
    "* list: リスト\n",
    "\n",
    "    リストは汎用性が高く、最も使われる配列です。要素の追加・変更・削除が可能で色々な場面で使われます。\n",
    "\n",
    "    -  可変(ミュータブル)\n",
    "    -  同じ型の要素を格納することが多い\n",
    "    -  汎用性が高い\n",
    "    -  シーケンスである\n",
    "        - シーケンスとは、文字列やリストのような複数の要素をまとめて扱える型のことで、その要素は順序を持ちます。\n",
    "\n",
    "\n",
    "* tuple: タプル\n",
    "\n",
    "    タプルは、要素を追加・削除・変更することができない配列です。\n",
    "    関数の戻り値として複数の要素を一時的に１つにまとめたい場合などでよく使われます。\n",
    "\n",
    "    -  不変(イミュータブル)\n",
    "    -  複数の型の要素を格納することが多い\n",
    "    -  リストよりもメモリを節約できる\n",
    "    -  関数の戻り値としてよく使う\n",
    "    -  シーケンス型である\n",
    "\n",
    "\n",
    "* dict: 辞書\n",
    "\n",
    "    辞書は key に value を対応付けて管理する配列です。\n",
    "    key に valueを対応付けるためインデックスからではなく key から要素にアクセスできます。\n",
    "\n",
    "    -  key と value で1つの要素\n",
    "    -  マッピング型である\n",
    "    -  連想配列や連想記憶、マップと呼ばれることもある\n",
    "<br>\n",
    "\n"
   ]
  },
  {
   "cell_type": "markdown",
   "id": "711e4fa9",
   "metadata": {},
   "source": [
    "## 1-2. arrayの例を示します。"
   ]
  },
  {
   "cell_type": "code",
   "execution_count": null,
   "id": "d15fa2a0",
   "metadata": {},
   "outputs": [],
   "source": [
    "ary1 = np.array([[\"A大学\", \"B大学\", \"C大学\"],[21, 22, 23]])\n",
    "print(ary1)\n",
    "# モジュールがインストールされていないので、エラーが返ってきます。"
   ]
  },
  {
   "cell_type": "code",
   "execution_count": null,
   "id": "113a4d6e",
   "metadata": {},
   "outputs": [],
   "source": [
    "import numpy as np\n",
    "ary1 = np.array([[\"A大学\", \"B大学\", \"C大学\"],[21, 22, 23]])\n",
    "print(ary1)"
   ]
  },
  {
   "cell_type": "code",
   "execution_count": null,
   "id": "f9ccb1cf",
   "metadata": {},
   "outputs": [],
   "source": [
    "import numpy as np\n",
    "ary2 = np.array([[11, 12, 13], [21, 22, 23], [31, 32, 33]])\n",
    "print(ary2)"
   ]
  },
  {
   "cell_type": "markdown",
   "id": "0db7ef81",
   "metadata": {},
   "source": [
    "## 1-3. seriesの例を示します。"
   ]
  },
  {
   "cell_type": "code",
   "execution_count": null,
   "id": "8dc41d6c",
   "metadata": {},
   "outputs": [],
   "source": [
    "se1 = pd.Series([10, 11, 12],name='se1')\n",
    "print(se1)\n",
    "# モジュールがインストールされていないので、エラーが返ってきます。"
   ]
  },
  {
   "cell_type": "code",
   "execution_count": null,
   "id": "3dc02154",
   "metadata": {},
   "outputs": [],
   "source": [
    "import pandas as pd\n",
    "se1 = pd.Series([10, 11, 12],name='se1')\n",
    "print(se1)"
   ]
  },
  {
   "cell_type": "markdown",
   "id": "5f1f6316",
   "metadata": {},
   "source": [
    "## 1-4. dataframeの例を示します。"
   ]
  },
  {
   "cell_type": "code",
   "execution_count": null,
   "id": "e4eb1c3e",
   "metadata": {},
   "outputs": [],
   "source": [
    "df1 = pd.DataFrame([[100, 101, 102],[200, 201, 202]], columns=['CLM0', 'CLM1', 'CLM2'])\n",
    "print(df1)\n",
    "# モジュールがインストールされていないので、エラーが返ってきます。"
   ]
  },
  {
   "cell_type": "code",
   "execution_count": null,
   "id": "6f0b941a",
   "metadata": {},
   "outputs": [],
   "source": [
    "import pandas as pd\n",
    "df1 = pd.DataFrame([[100, 101, 102],[200, 201, 202]], columns=['CLM0', 'CLM1', 'CLM2'])\n",
    "print(df1)"
   ]
  },
  {
   "cell_type": "code",
   "execution_count": null,
   "id": "c8175a66",
   "metadata": {},
   "outputs": [],
   "source": [
    "df1"
   ]
  },
  {
   "cell_type": "code",
   "execution_count": null,
   "id": "41f0e8e0",
   "metadata": {},
   "outputs": [],
   "source": [
    "df_x = pd.read_csv(test.csv)\n",
    "# エラーが返ってきます。ファイルの書き方は注意が必要です。"
   ]
  },
  {
   "cell_type": "code",
   "execution_count": null,
   "id": "7ec9af8b",
   "metadata": {},
   "outputs": [],
   "source": [
    "df_x = pd.read_csv(\"test.csv\")\n",
    "df_x"
   ]
  },
  {
   "cell_type": "code",
   "execution_count": null,
   "id": "1a3d65cd",
   "metadata": {
    "scrolled": true
   },
   "outputs": [],
   "source": [
    "df_ex1 = pd.read_excel(\"test_excel.xlsx\")\n",
    "df_ex1"
   ]
  },
  {
   "cell_type": "code",
   "execution_count": null,
   "id": "7c0eee51",
   "metadata": {},
   "outputs": [],
   "source": [
    "df_ex2 = pd.read_excel(\"test_excel.xlsx\", sheet_name = \"test_sheet2\")\n",
    "df_ex2"
   ]
  },
  {
   "cell_type": "code",
   "execution_count": null,
   "id": "9fcd7c8b",
   "metadata": {},
   "outputs": [],
   "source": [
    "# google colaboratoryで、google driveに保存してあるファイルを読み込む場合\n",
    "# １）driveのモジュールをインポート\n",
    "# from google.colab import drive\n",
    "\n",
    "# ２）driveのマウント\n",
    "# drive.mount('/content/drive')\n",
    "\n",
    "# ３）google drive上でファイルのパスを確認\n",
    "#  「Data/colaboratory Notebook/test.csv」のパスにあることを確認。\n",
    "\n",
    "# ４）pandasのread_csvで読み込み\n",
    "#   「drive/My Drive」以下に、３）で確認したパスを指定して読み込む。\n",
    "# df_x = pd.read_csv(\"drive/My Drive/Colaboratory Notebook/test.csv\")\n",
    "# df_x\n",
    "\n",
    "# excelファイルを開く場合\n",
    "# １）マウント後にexcel用のモジュールをインストール\n",
    "# pip install openpyxl\n",
    "# ２）pandasのread_excelで読み込み\n",
    "# df_excel2 = pd.read_excel(\"drive/My Drive/Colaboratory Notebook/test_excel.xlsx\", sheet_name = \"test_sheet2\")\n",
    "# df_excel2"
   ]
  },
  {
   "cell_type": "markdown",
   "id": "9c1a19c4",
   "metadata": {},
   "source": [
    "# 2. 配列の相互変換\n",
    "ここでは、list, array, series, dataframeの相互変換を説明します。"
   ]
  },
  {
   "cell_type": "markdown",
   "id": "bb50b302",
   "metadata": {},
   "source": [
    "## 2-1. listから変換する場合"
   ]
  },
  {
   "cell_type": "code",
   "execution_count": null,
   "id": "bbad54f2",
   "metadata": {},
   "outputs": [],
   "source": [
    "list1 = [11, 12, 13]"
   ]
  },
  {
   "cell_type": "code",
   "execution_count": null,
   "id": "f1b39d11",
   "metadata": {},
   "outputs": [],
   "source": [
    "# arrayに変換\n",
    "list_array = np.array(list1)\n",
    "list_array"
   ]
  },
  {
   "cell_type": "code",
   "execution_count": null,
   "id": "c11c1ba2",
   "metadata": {},
   "outputs": [],
   "source": [
    "# seriesに変換\n",
    "list_series = pd.Series(list1)\n",
    "list_series"
   ]
  },
  {
   "cell_type": "code",
   "execution_count": null,
   "id": "8385d6e2",
   "metadata": {},
   "outputs": [],
   "source": [
    "# dataframeに変換\n",
    "list_dataframe = pd.DataFrame(list1)\n",
    "list_dataframe"
   ]
  },
  {
   "cell_type": "markdown",
   "id": "0fef8938",
   "metadata": {},
   "source": [
    "## 2-2. arrayから変換する場合"
   ]
  },
  {
   "cell_type": "code",
   "execution_count": null,
   "id": "d1ce969f",
   "metadata": {},
   "outputs": [],
   "source": [
    "ary1 = np.array([[11, 12, 13], [21, 22, 23], [31, 32, 33]])"
   ]
  },
  {
   "cell_type": "code",
   "execution_count": null,
   "id": "9bba9e61",
   "metadata": {},
   "outputs": [],
   "source": [
    "# listに変換\n",
    "array_list = ary1.tolist()\n",
    "array_list"
   ]
  },
  {
   "cell_type": "code",
   "execution_count": null,
   "id": "30d3abe5",
   "metadata": {
    "scrolled": true
   },
   "outputs": [],
   "source": [
    "# seriesに変換 --->次元エラー\n",
    "array_series = pd.Series(ary1)\n",
    "array_series"
   ]
  },
  {
   "cell_type": "code",
   "execution_count": null,
   "id": "55e8dd70",
   "metadata": {},
   "outputs": [],
   "source": [
    "# seriesに変換 ※arrayが1次元の時のみ可能\n",
    "ary2 = np.array([11, 12, 13])\n",
    "array_series = pd.Series(ary2)\n",
    "array_series"
   ]
  },
  {
   "cell_type": "code",
   "execution_count": null,
   "id": "b4f0c9be",
   "metadata": {},
   "outputs": [],
   "source": [
    "# dataframeに変換\n",
    "array_dataframe = pd.DataFrame(ary1)\n",
    "array_dataframe"
   ]
  },
  {
   "cell_type": "code",
   "execution_count": null,
   "id": "0024e480",
   "metadata": {},
   "outputs": [],
   "source": [
    "# dataframeに変換(カラム名の追加)\n",
    "array_dataframe = pd.DataFrame(ary1, columns=['clm0', 'clm1', 'clm2'])\n",
    "array_dataframe"
   ]
  },
  {
   "cell_type": "markdown",
   "id": "913574cd",
   "metadata": {},
   "source": [
    "- dataframeでは、カラム名やindex名を指定することができます。\n",
    "- オプションを指定する場合は、`columns = []`, `index =[]`を用います。"
   ]
  },
  {
   "cell_type": "markdown",
   "id": "be60753b",
   "metadata": {},
   "source": [
    "## 2-3. seriesから変換する場合"
   ]
  },
  {
   "cell_type": "code",
   "execution_count": null,
   "id": "679a496e",
   "metadata": {},
   "outputs": [],
   "source": [
    "se1 = pd.Series([10, 11, 12],name='se1')"
   ]
  },
  {
   "cell_type": "code",
   "execution_count": null,
   "id": "dc6b62f3",
   "metadata": {},
   "outputs": [],
   "source": [
    "# listに変換\n",
    "series_list = se1.values.tolist()\n",
    "series_list"
   ]
  },
  {
   "cell_type": "code",
   "execution_count": null,
   "id": "e58a7e03",
   "metadata": {},
   "outputs": [],
   "source": [
    "# arrayに変換\n",
    "series_array = se1.values\n",
    "series_array"
   ]
  },
  {
   "cell_type": "code",
   "execution_count": null,
   "id": "0a3ff2b6",
   "metadata": {},
   "outputs": [],
   "source": [
    "# dataframeに変換\n",
    "series_dataframe = pd.DataFrame(se1)\n",
    "series_dataframe"
   ]
  },
  {
   "cell_type": "markdown",
   "id": "e597813e",
   "metadata": {},
   "source": [
    "## 2-4. dataframeから変換する場合"
   ]
  },
  {
   "cell_type": "code",
   "execution_count": null,
   "id": "057a3f7a",
   "metadata": {},
   "outputs": [],
   "source": [
    "df1 = pd.DataFrame([[100, 101, 102],[200, 201, 202]], columns=['CLM0', 'CLM1', 'CLM2'])"
   ]
  },
  {
   "cell_type": "code",
   "execution_count": null,
   "id": "d23f9ea1",
   "metadata": {},
   "outputs": [],
   "source": [
    "# listに変換\n",
    "dataframe_list = df1.values.tolist()\n",
    "dataframe_list"
   ]
  },
  {
   "cell_type": "code",
   "execution_count": null,
   "id": "f302b33d",
   "metadata": {},
   "outputs": [],
   "source": [
    "# arrayに変換\n",
    "dataframe_array = df1.to_numpy()\n",
    "dataframe_array"
   ]
  },
  {
   "cell_type": "code",
   "execution_count": null,
   "id": "77e7254b",
   "metadata": {},
   "outputs": [],
   "source": [
    "# seriesに変換\n",
    "dataframe_series = df1.iloc[:,0]  # 0列目を指定して抽出\n",
    "dataframe_series"
   ]
  },
  {
   "cell_type": "markdown",
   "id": "67f35d55",
   "metadata": {},
   "source": [
    "# 3. DataFrameの操作"
   ]
  },
  {
   "cell_type": "markdown",
   "id": "646c9fae",
   "metadata": {},
   "source": [
    "## 3-1. 行列操作\n",
    "\n",
    "csvやexcelファイルを読み込む際には、インデックスを指定することもできます。"
   ]
  },
  {
   "cell_type": "code",
   "execution_count": null,
   "id": "6a7910e5",
   "metadata": {},
   "outputs": [],
   "source": [
    "df_x = pd.read_csv(\"test.csv\")\n",
    "df_x"
   ]
  },
  {
   "cell_type": "code",
   "execution_count": null,
   "id": "04b96e53",
   "metadata": {},
   "outputs": [],
   "source": [
    "df_a = pd.read_csv(\"test.csv\", index_col=0)\n",
    "df_a"
   ]
  },
  {
   "cell_type": "markdown",
   "id": "12967be5",
   "metadata": {},
   "source": [
    "## -- 追加（カラム名、インデックス名の変更）"
   ]
  },
  {
   "cell_type": "code",
   "execution_count": null,
   "id": "7b59b28b",
   "metadata": {},
   "outputs": [],
   "source": [
    "df_new = df_a.rename(columns={'B大学': '列名の変更'}, index={'2020年': '行名の変更'})\n",
    "df_new"
   ]
  },
  {
   "cell_type": "markdown",
   "id": "14d8f71f",
   "metadata": {},
   "source": [
    "## -- 追加はここまで"
   ]
  },
  {
   "cell_type": "code",
   "execution_count": null,
   "id": "6eeab5ed",
   "metadata": {},
   "outputs": [],
   "source": [
    "# 転置\n",
    "df_a.T"
   ]
  },
  {
   "cell_type": "code",
   "execution_count": null,
   "id": "87f72deb",
   "metadata": {},
   "outputs": [],
   "source": [
    "# 列の抽出①\n",
    "df_a[\"A大学\"]"
   ]
  },
  {
   "cell_type": "code",
   "execution_count": null,
   "id": "cb7657f0",
   "metadata": {},
   "outputs": [],
   "source": [
    "# 列の抽出②\n",
    "df_a.A大学"
   ]
  },
  {
   "cell_type": "code",
   "execution_count": null,
   "id": "b766b6e3",
   "metadata": {},
   "outputs": [],
   "source": [
    "# 行の抽出①\n",
    "df_a[1:3]"
   ]
  },
  {
   "cell_type": "code",
   "execution_count": null,
   "id": "9ba497c0",
   "metadata": {},
   "outputs": [],
   "source": [
    "# 行の抽出②\n",
    "df_a[:3]"
   ]
  },
  {
   "cell_type": "code",
   "execution_count": null,
   "id": "8e06102d",
   "metadata": {},
   "outputs": [],
   "source": [
    "# 行の抽出③\n",
    "df_a['2019年':'2021年']"
   ]
  },
  {
   "cell_type": "markdown",
   "id": "35fb4ef6",
   "metadata": {},
   "source": [
    "- locは行名もしくは列名を指定することで特定の値を抽出できます。\n",
    "- ilocはindexを指定することで特定の値を抽出できます。つまり、行、列を番号（数字が０のインデックス）で指定します。"
   ]
  },
  {
   "cell_type": "code",
   "execution_count": null,
   "id": "92003f47",
   "metadata": {},
   "outputs": [],
   "source": [
    "df_a.loc[:,['B大学','C大学']]"
   ]
  },
  {
   "cell_type": "code",
   "execution_count": null,
   "id": "46c6b692",
   "metadata": {},
   "outputs": [],
   "source": [
    "df_a.loc['2019年':'2021年',['B大学','C大学']]"
   ]
  },
  {
   "cell_type": "code",
   "execution_count": null,
   "id": "5fd558dc",
   "metadata": {},
   "outputs": [],
   "source": [
    "df_a.iloc[[1,2,4],[0,2]]"
   ]
  },
  {
   "cell_type": "code",
   "execution_count": null,
   "id": "e1102d5a",
   "metadata": {},
   "outputs": [],
   "source": [
    "# 条件を指定して行・列を取得します。\n",
    "df_a[df_a > 3001]"
   ]
  },
  {
   "cell_type": "code",
   "execution_count": null,
   "id": "7d25d6a0",
   "metadata": {},
   "outputs": [],
   "source": [
    "# 行の削除\n",
    "df_a.drop('2021年', axis=0)"
   ]
  },
  {
   "cell_type": "code",
   "execution_count": null,
   "id": "78d20a83",
   "metadata": {},
   "outputs": [],
   "source": [
    "# 列の削除\n",
    "df_a.drop('D大学', axis=1)"
   ]
  },
  {
   "cell_type": "markdown",
   "id": "943727bb",
   "metadata": {},
   "source": [
    "## 3-1. データの結合"
   ]
  },
  {
   "cell_type": "code",
   "execution_count": null,
   "id": "d0fc65e0",
   "metadata": {
    "scrolled": true
   },
   "outputs": [],
   "source": [
    "df_a = pd.read_csv(\"test.csv\", index_col=0)\n",
    "df_a"
   ]
  },
  {
   "cell_type": "code",
   "execution_count": null,
   "id": "cdaafb86",
   "metadata": {},
   "outputs": [],
   "source": [
    "df_b = pd.read_csv(\"test_add1.csv\", index_col=0)\n",
    "df_b"
   ]
  },
  {
   "cell_type": "code",
   "execution_count": null,
   "id": "67da29bc",
   "metadata": {},
   "outputs": [],
   "source": [
    "df_c = pd.read_csv(\"test_add2.csv\", index_col=0)\n",
    "df_c"
   ]
  },
  {
   "cell_type": "code",
   "execution_count": null,
   "id": "c13db39b",
   "metadata": {},
   "outputs": [],
   "source": [
    "# 横結合\n",
    "# インデックス（行ラベル）をキーに指定する場合は、引数left_index, right_indexをTrueとする。\n",
    "pd.merge(df_a, df_b, left_index=True, right_index=True)"
   ]
  },
  {
   "cell_type": "code",
   "execution_count": null,
   "id": "8a79fac6",
   "metadata": {},
   "outputs": [],
   "source": [
    "# 縦結合\n",
    "pd.concat([df_a, df_c])"
   ]
  },
  {
   "cell_type": "markdown",
   "id": "2f61799e",
   "metadata": {},
   "source": [
    "# 4. 欠損値の補完"
   ]
  },
  {
   "cell_type": "code",
   "execution_count": null,
   "id": "252fa3db",
   "metadata": {},
   "outputs": [],
   "source": [
    "import numpy as np\n",
    "from numpy import nan as NA\n",
    "import pandas as pd\n",
    "\n",
    "df_miss = pd.read_csv(\"test_miss.csv\", index_col=0)\n",
    "df_miss"
   ]
  },
  {
   "cell_type": "code",
   "execution_count": null,
   "id": "ab71dba5",
   "metadata": {},
   "outputs": [],
   "source": [
    "# 欠損値有無の確認\n",
    "df_miss.isnull().sum()"
   ]
  },
  {
   "cell_type": "code",
   "execution_count": null,
   "id": "3267f3f2",
   "metadata": {},
   "outputs": [],
   "source": [
    "# リストワイズ削除\n",
    "# NaNのある行を全て削除\n",
    "df_miss.dropna()"
   ]
  },
  {
   "cell_type": "code",
   "execution_count": null,
   "id": "16fd02ef",
   "metadata": {},
   "outputs": [],
   "source": [
    "# fillna(値)で埋める\n",
    "df_miss.fillna(0)"
   ]
  },
  {
   "cell_type": "code",
   "execution_count": null,
   "id": "d71983f7",
   "metadata": {},
   "outputs": [],
   "source": [
    "# 前の値で埋める\n",
    "df_miss.fillna(method = 'ffill') \n",
    "# 後ろの値で埋める\n",
    "# df_miss.fillna(method = 'bfill') "
   ]
  },
  {
   "cell_type": "code",
   "execution_count": null,
   "id": "0fd9afce",
   "metadata": {},
   "outputs": [],
   "source": [
    "# 前後の値から予測する\n",
    "df_miss.interpolate()"
   ]
  },
  {
   "cell_type": "code",
   "execution_count": null,
   "id": "f99bf946",
   "metadata": {},
   "outputs": [],
   "source": [
    "# 平均で埋める\n",
    "# 平均値\n",
    "df_miss.mean()"
   ]
  },
  {
   "cell_type": "code",
   "execution_count": null,
   "id": "3489ed64",
   "metadata": {},
   "outputs": [],
   "source": [
    "# 平均値で埋める\n",
    "df_miss.fillna(df_miss.mean())"
   ]
  },
  {
   "cell_type": "code",
   "execution_count": null,
   "id": "9023355a",
   "metadata": {},
   "outputs": [],
   "source": []
  }
 ],
 "metadata": {
  "kernelspec": {
   "display_name": "Python 3 (ipykernel)",
   "language": "python",
   "name": "python3"
  },
  "language_info": {
   "codemirror_mode": {
    "name": "ipython",
    "version": 3
   },
   "file_extension": ".py",
   "mimetype": "text/x-python",
   "name": "python",
   "nbconvert_exporter": "python",
   "pygments_lexer": "ipython3",
   "version": "3.7.11"
  }
 },
 "nbformat": 4,
 "nbformat_minor": 5
}
