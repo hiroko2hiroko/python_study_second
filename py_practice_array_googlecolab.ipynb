{
  "cells": [
    {
      "cell_type": "markdown",
      "id": "886b0e21",
      "metadata": {
        "id": "886b0e21"
      },
      "source": [
        "# 1. 配列の種類\n",
        "ここでは、list, array, series, dataframeのそれぞれの配列をみていきます。"
      ]
    },
    {
      "cell_type": "markdown",
      "id": "5055b1a4",
      "metadata": {
        "id": "5055b1a4"
      },
      "source": [
        "## 1-1. listの例を示します。"
      ]
    },
    {
      "cell_type": "code",
      "execution_count": null,
      "id": "a858001c",
      "metadata": {
        "id": "a858001c"
      },
      "outputs": [],
      "source": [
        "list1 = [11, 12, 13]\n",
        "print(list1)"
      ]
    },
    {
      "cell_type": "code",
      "execution_count": null,
      "id": "7418bdb8",
      "metadata": {
        "scrolled": true,
        "id": "7418bdb8"
      },
      "outputs": [],
      "source": [
        "list2 = [\"A大学\", \"B大学\", \"C大学\"]\n",
        "print(list2)"
      ]
    },
    {
      "cell_type": "code",
      "execution_count": null,
      "id": "4406c703",
      "metadata": {
        "id": "4406c703"
      },
      "outputs": [],
      "source": [
        "list3 =  [123, 'abc', 456.789] \n",
        "print(list3)"
      ]
    },
    {
      "cell_type": "code",
      "execution_count": null,
      "id": "bc1d26d6",
      "metadata": {
        "id": "bc1d26d6"
      },
      "outputs": [],
      "source": [
        "dict1 = {'a':'ABC', 'b':'BCD', 'c': 'CDE'}\n",
        "print(dict1)"
      ]
    },
    {
      "cell_type": "code",
      "execution_count": null,
      "id": "33f98625",
      "metadata": {
        "id": "33f98625"
      },
      "outputs": [],
      "source": [
        "tuple1 = ('AB', 12)\n",
        "print(tuple1)"
      ]
    },
    {
      "cell_type": "markdown",
      "id": "5550c3ff",
      "metadata": {
        "id": "5550c3ff"
      },
      "source": [
        "**まとめ**\n",
        "* list: リスト\n",
        "\n",
        "    リストは汎用性が高く、最も使われる配列です。要素の追加・変更・削除が可能で色々な場面で使われます。\n",
        "\n",
        "    -  可変(ミュータブル)\n",
        "    -  同じ型の要素を格納することが多い\n",
        "    -  汎用性が高い\n",
        "    -  シーケンスである\n",
        "        - シーケンスとは、文字列やリストのような複数の要素をまとめて扱える型のことで、その要素は順序を持ちます。\n",
        "\n",
        "\n",
        "* tuple: タプル\n",
        "\n",
        "    タプルは、要素を追加・削除・変更することができない配列です。\n",
        "    関数の戻り値として複数の要素を一時的に１つにまとめたい場合などでよく使われます。\n",
        "\n",
        "    -  不変(イミュータブル)\n",
        "    -  複数の型の要素を格納することが多い\n",
        "    -  リストよりもメモリを節約できる\n",
        "    -  関数の戻り値としてよく使う\n",
        "    -  シーケンス型である\n",
        "\n",
        "\n",
        "* dict: 辞書\n",
        "\n",
        "    辞書は key に value を対応付けて管理する配列です。\n",
        "    key に valueを対応付けるためインデックスからではなく key から要素にアクセスできます。\n",
        "\n",
        "    -  key と value で1つの要素\n",
        "    -  マッピング型である\n",
        "    -  連想配列や連想記憶、マップと呼ばれることもある\n",
        "<br>\n",
        "\n"
      ]
    },
    {
      "cell_type": "markdown",
      "id": "711e4fa9",
      "metadata": {
        "id": "711e4fa9"
      },
      "source": [
        "## 1-2. arrayの例を示します。"
      ]
    },
    {
      "cell_type": "code",
      "execution_count": null,
      "id": "d15fa2a0",
      "metadata": {
        "id": "d15fa2a0"
      },
      "outputs": [],
      "source": [
        "ary1 = np.array([[\"A大学\", \"B大学\", \"C大学\"],[21, 22, 23]])\n",
        "print(ary1)\n",
        "# モジュールがインストールされていないので、エラーが返ってきます。"
      ]
    },
    {
      "cell_type": "code",
      "execution_count": null,
      "id": "113a4d6e",
      "metadata": {
        "id": "113a4d6e"
      },
      "outputs": [],
      "source": [
        "import numpy as np\n",
        "ary1 = np.array([[\"A大学\", \"B大学\", \"C大学\"],[21, 22, 23]])\n",
        "print(ary1)"
      ]
    },
    {
      "cell_type": "code",
      "execution_count": null,
      "id": "f9ccb1cf",
      "metadata": {
        "id": "f9ccb1cf"
      },
      "outputs": [],
      "source": [
        "import numpy as np\n",
        "ary2 = np.array([[11, 12, 13], [21, 22, 23], [31, 32, 33]])\n",
        "print(ary2)"
      ]
    },
    {
      "cell_type": "markdown",
      "id": "0db7ef81",
      "metadata": {
        "id": "0db7ef81"
      },
      "source": [
        "## 1-3. seriesの例を示します。"
      ]
    },
    {
      "cell_type": "code",
      "execution_count": null,
      "id": "8dc41d6c",
      "metadata": {
        "id": "8dc41d6c"
      },
      "outputs": [],
      "source": [
        "se1 = pd.Series([10, 11, 12],name='se1')\n",
        "print(se1)\n",
        "# モジュールがインストールされていないので、エラーが返ってきます。"
      ]
    },
    {
      "cell_type": "code",
      "execution_count": null,
      "id": "b6db7775",
      "metadata": {
        "id": "b6db7775"
      },
      "outputs": [],
      "source": [
        "import pandas as pd\n",
        "se1 = pd.Series([10, 11, 12],name='se1')\n",
        "print(se1)"
      ]
    },
    {
      "cell_type": "markdown",
      "id": "5f1f6316",
      "metadata": {
        "id": "5f1f6316"
      },
      "source": [
        "## 1-4. dataframeの例を示します。"
      ]
    },
    {
      "cell_type": "code",
      "execution_count": null,
      "id": "ccf7c369",
      "metadata": {
        "id": "ccf7c369"
      },
      "outputs": [],
      "source": [
        "df1 = pd.DataFrame([[100, 101, 102],[200, 201, 202]], columns=['CLM0', 'CLM1', 'CLM2'])\n",
        "print(df1)\n",
        "# モジュールがインストールされていないので、エラーが返ってきます。"
      ]
    },
    {
      "cell_type": "code",
      "execution_count": null,
      "id": "4687ef69",
      "metadata": {
        "id": "4687ef69"
      },
      "outputs": [],
      "source": [
        "import pandas as pd\n",
        "df1 = pd.DataFrame([[100, 101, 102],[200, 201, 202]], columns=['CLM0', 'CLM1', 'CLM2'])\n",
        "print(df1)"
      ]
    },
    {
      "cell_type": "code",
      "execution_count": null,
      "id": "78481b7c",
      "metadata": {
        "id": "78481b7c"
      },
      "outputs": [],
      "source": [
        "df1"
      ]
    },
    {
      "cell_type": "markdown",
      "source": [
        "## 1-5. google driveに保存してあるファイルの読み込み\n",
        "\n",
        "\n",
        "*   driveのモジュールをインポート\n",
        "    - `from google.colab import drive`\n",
        "*   driveのマウント\n",
        "    - `drive.mount('/content/drive')`\n",
        "*   google drive上でファイルのパスを確認\n",
        "    - `Data/colaboratory Notebook/test.csv`のパスにあることを確認。\n",
        "*   pandasのread_csvで読み込み\n",
        "    - `drive/My Drive`以下に、３）で確認したパスを指定して読み込む。\n",
        "    - `df_x = pd.read_csv(\"drive/My Drive/Colaboratory Notebook/test.csv\")`\n",
        "\n",
        "\n"
      ],
      "metadata": {
        "id": "O43HSQShNGc7"
      },
      "id": "O43HSQShNGc7"
    },
    {
      "cell_type": "code",
      "execution_count": null,
      "id": "70719d8b",
      "metadata": {
        "id": "70719d8b"
      },
      "outputs": [],
      "source": [
        "from google.colab import drive\n",
        "drive.mount('/content/drive')"
      ]
    },
    {
      "cell_type": "code",
      "source": [
        "df_x = pd.read_csv(\"drive/My Drive/Colaboratory Notebook/test.csv\")\n",
        "df_x"
      ],
      "metadata": {
        "id": "63jtfyEjOup-"
      },
      "id": "63jtfyEjOup-",
      "execution_count": null,
      "outputs": []
    },
    {
      "cell_type": "markdown",
      "source": [
        "excelファイルを開く場合\n",
        "*   マウント後にexcel用のモジュールをインストール\n",
        "    - `pip install openpyxl`\n",
        "*   pandasのread_excelで読み込み\n",
        "    - `df_excel2 = pd.read_excel(\"drive/My Drive/Colaboratory Notebook/test_excel.xlsx\", sheet_name = \"test_sheet2\")`\n",
        "*   表示\n",
        "    - `df_excel2`"
      ],
      "metadata": {
        "id": "FehSACP_PNTn"
      },
      "id": "FehSACP_PNTn"
    },
    {
      "cell_type": "markdown",
      "id": "bf35ae3d",
      "metadata": {
        "id": "bf35ae3d"
      },
      "source": [
        "# 2. 配列の相互変換\n",
        "ここでは、list, array, series, dataframeの相互変換を説明します。"
      ]
    },
    {
      "cell_type": "markdown",
      "id": "66f9acdb",
      "metadata": {
        "id": "66f9acdb"
      },
      "source": [
        "## 2-1. listから変換する場合"
      ]
    },
    {
      "cell_type": "code",
      "execution_count": null,
      "id": "a65d7a35",
      "metadata": {
        "id": "a65d7a35"
      },
      "outputs": [],
      "source": [
        "list1 = [11, 12, 13]"
      ]
    },
    {
      "cell_type": "code",
      "execution_count": null,
      "id": "daf91348",
      "metadata": {
        "id": "daf91348"
      },
      "outputs": [],
      "source": [
        "# arrayに変換\n",
        "list_array = np.array(list1)\n",
        "list_array"
      ]
    },
    {
      "cell_type": "code",
      "execution_count": null,
      "id": "22498682",
      "metadata": {
        "id": "22498682"
      },
      "outputs": [],
      "source": [
        "# seriesに変換\n",
        "list_series = pd.Series(list1)\n",
        "list_series"
      ]
    },
    {
      "cell_type": "code",
      "execution_count": null,
      "id": "8bd34599",
      "metadata": {
        "id": "8bd34599"
      },
      "outputs": [],
      "source": [
        "# dataframeに変換\n",
        "list_dataframe = pd.DataFrame(list1)\n",
        "list_dataframe"
      ]
    },
    {
      "cell_type": "markdown",
      "id": "10ec500d",
      "metadata": {
        "id": "10ec500d"
      },
      "source": [
        "## 2-2. arrayから変換する場合"
      ]
    },
    {
      "cell_type": "code",
      "execution_count": null,
      "id": "1578064a",
      "metadata": {
        "id": "1578064a"
      },
      "outputs": [],
      "source": [
        "ary1 = np.array([[11, 12, 13], [21, 22, 23], [31, 32, 33]])"
      ]
    },
    {
      "cell_type": "code",
      "execution_count": null,
      "id": "aade57c0",
      "metadata": {
        "id": "aade57c0"
      },
      "outputs": [],
      "source": [
        "# listに変換\n",
        "array_list = ary1.tolist()\n",
        "array_list"
      ]
    },
    {
      "cell_type": "code",
      "execution_count": null,
      "id": "b8e6ece6",
      "metadata": {
        "scrolled": true,
        "id": "b8e6ece6"
      },
      "outputs": [],
      "source": [
        "# seriesに変換 --->次元エラー\n",
        "array_series = pd.Series(ary1)\n",
        "array_series"
      ]
    },
    {
      "cell_type": "code",
      "execution_count": null,
      "id": "85734801",
      "metadata": {
        "id": "85734801"
      },
      "outputs": [],
      "source": [
        "# seriesに変換 ※arrayが1次元の時のみ可能\n",
        "ary2 = np.array([11, 12, 13])\n",
        "array_series = pd.Series(ary2)\n",
        "array_series"
      ]
    },
    {
      "cell_type": "code",
      "execution_count": null,
      "id": "f6ee299e",
      "metadata": {
        "id": "f6ee299e"
      },
      "outputs": [],
      "source": [
        "# dataframeに変換\n",
        "array_dataframe = pd.DataFrame(ary1)\n",
        "array_dataframe"
      ]
    },
    {
      "cell_type": "code",
      "execution_count": null,
      "id": "09ad062d",
      "metadata": {
        "id": "09ad062d"
      },
      "outputs": [],
      "source": [
        "# dataframeに変換(カラム名の追加)\n",
        "array_dataframe = pd.DataFrame(ary1, columns=['clm0', 'clm1', 'clm2'])\n",
        "array_dataframe"
      ]
    },
    {
      "cell_type": "markdown",
      "id": "6f937643",
      "metadata": {
        "id": "6f937643"
      },
      "source": [
        "- dataframeでは、カラム名やindex名を指定することができます。\n",
        "- オプションを指定する場合は、`columns = []`, `index =[]`を用います。"
      ]
    },
    {
      "cell_type": "markdown",
      "id": "25f46927",
      "metadata": {
        "id": "25f46927"
      },
      "source": [
        "## 2-3. seriesから変換する場合"
      ]
    },
    {
      "cell_type": "code",
      "execution_count": null,
      "id": "eff1d72d",
      "metadata": {
        "id": "eff1d72d"
      },
      "outputs": [],
      "source": [
        "se1 = pd.Series([10, 11, 12],name='se1')"
      ]
    },
    {
      "cell_type": "code",
      "execution_count": null,
      "id": "3e251095",
      "metadata": {
        "id": "3e251095"
      },
      "outputs": [],
      "source": [
        "# listに変換\n",
        "series_list = se1.values.tolist()\n",
        "series_list"
      ]
    },
    {
      "cell_type": "code",
      "execution_count": null,
      "id": "723e4a33",
      "metadata": {
        "id": "723e4a33"
      },
      "outputs": [],
      "source": [
        "# arrayに変換\n",
        "series_array = se1.values\n",
        "series_array"
      ]
    },
    {
      "cell_type": "code",
      "execution_count": null,
      "id": "486f838c",
      "metadata": {
        "id": "486f838c"
      },
      "outputs": [],
      "source": [
        "# dataframeに変換\n",
        "series_dataframe = pd.DataFrame(se1)\n",
        "series_dataframe"
      ]
    },
    {
      "cell_type": "markdown",
      "id": "e106482f",
      "metadata": {
        "id": "e106482f"
      },
      "source": [
        "## 2-4. dataframeから変換する場合"
      ]
    },
    {
      "cell_type": "code",
      "execution_count": null,
      "id": "cae73d75",
      "metadata": {
        "id": "cae73d75"
      },
      "outputs": [],
      "source": [
        "df1 = pd.DataFrame([[100, 101, 102],[200, 201, 202]], columns=['CLM0', 'CLM1', 'CLM2'])"
      ]
    },
    {
      "cell_type": "code",
      "execution_count": null,
      "id": "900f5e2c",
      "metadata": {
        "id": "900f5e2c"
      },
      "outputs": [],
      "source": [
        "# listに変換\n",
        "dataframe_list = df1.values.tolist()\n",
        "dataframe_list"
      ]
    },
    {
      "cell_type": "code",
      "execution_count": null,
      "id": "4aeb360c",
      "metadata": {
        "id": "4aeb360c"
      },
      "outputs": [],
      "source": [
        "# arrayに変換\n",
        "dataframe_array = df1.to_numpy()\n",
        "dataframe_array"
      ]
    },
    {
      "cell_type": "code",
      "execution_count": null,
      "id": "17ae6df9",
      "metadata": {
        "id": "17ae6df9"
      },
      "outputs": [],
      "source": [
        "# seriesに変換\n",
        "dataframe_series = df1.iloc[:,0]  # 0列目を指定して抽出\n",
        "dataframe_series"
      ]
    },
    {
      "cell_type": "markdown",
      "id": "1740b21c",
      "metadata": {
        "id": "1740b21c"
      },
      "source": [
        "# 3. DataFrameの操作"
      ]
    },
    {
      "cell_type": "markdown",
      "id": "798b4bf7",
      "metadata": {
        "id": "798b4bf7"
      },
      "source": [
        "## 3-1. 行列操作\n",
        "\n",
        "csvやexcelファイルを読み込む際には、インデックスを指定することもできます。"
      ]
    },
    {
      "cell_type": "code",
      "execution_count": null,
      "id": "a5f90150",
      "metadata": {
        "id": "a5f90150"
      },
      "outputs": [],
      "source": [
        "df_x = pd.read_csv(\"drive/My Drive/Colaboratory Notebook/test.csv\")\n",
        "df_x"
      ]
    },
    {
      "cell_type": "code",
      "execution_count": null,
      "id": "bed83cd0",
      "metadata": {
        "id": "bed83cd0"
      },
      "outputs": [],
      "source": [
        "df_a = pd.read_csv(\"drive/My Drive/Colaboratory Notebook/test.csv\", index_col=0)\n",
        "df_a"
      ]
    },
    {
      "cell_type": "markdown",
      "source": [
        "## -- 追加（カラム名、インデックス名の変更）"
      ],
      "metadata": {
        "id": "v07jakA89-75"
      },
      "id": "v07jakA89-75"
    },
    {
      "cell_type": "code",
      "source": [
        "df_new = df_a.rename(columns={'B大学': '列名の変更'}, index={'2020年': '行名の変更'})\n",
        "df_new"
      ],
      "metadata": {
        "id": "1gIx3Vj1-BET"
      },
      "id": "1gIx3Vj1-BET",
      "execution_count": null,
      "outputs": []
    },
    {
      "cell_type": "markdown",
      "source": [
        "## -- 追加はここまで"
      ],
      "metadata": {
        "id": "zjaNfsOa-mjh"
      },
      "id": "zjaNfsOa-mjh"
    },
    {
      "cell_type": "code",
      "execution_count": null,
      "id": "aa038a1b",
      "metadata": {
        "id": "aa038a1b"
      },
      "outputs": [],
      "source": [
        "# 転置\n",
        "df_a.T"
      ]
    },
    {
      "cell_type": "code",
      "execution_count": null,
      "id": "d9723b57",
      "metadata": {
        "id": "d9723b57"
      },
      "outputs": [],
      "source": [
        "# 列の抽出①\n",
        "df_a[\"A大学\"]"
      ]
    },
    {
      "cell_type": "code",
      "execution_count": null,
      "id": "311b2411",
      "metadata": {
        "id": "311b2411"
      },
      "outputs": [],
      "source": [
        "# 列の抽出②\n",
        "df_a.A大学"
      ]
    },
    {
      "cell_type": "code",
      "execution_count": null,
      "id": "52dad1d8",
      "metadata": {
        "id": "52dad1d8"
      },
      "outputs": [],
      "source": [
        "# 行の抽出①\n",
        "df_a[1:3]"
      ]
    },
    {
      "cell_type": "code",
      "execution_count": null,
      "id": "d089c1c4",
      "metadata": {
        "id": "d089c1c4"
      },
      "outputs": [],
      "source": [
        "# 行の抽出②\n",
        "df_a[:3]"
      ]
    },
    {
      "cell_type": "code",
      "execution_count": null,
      "id": "0b4c09a1",
      "metadata": {
        "id": "0b4c09a1"
      },
      "outputs": [],
      "source": [
        "# 行の抽出③\n",
        "df_a['2019年':'2021年']"
      ]
    },
    {
      "cell_type": "markdown",
      "id": "bc1f766c",
      "metadata": {
        "id": "bc1f766c"
      },
      "source": [
        "- locは行名もしくは列名を指定することで特定の値を抽出できます。\n",
        "- ilocはindexを指定することで特定の値を抽出できます。つまり、行、列を番号（数字が０のインデックス）で指定します。"
      ]
    },
    {
      "cell_type": "code",
      "execution_count": null,
      "id": "b42c34f3",
      "metadata": {
        "id": "b42c34f3"
      },
      "outputs": [],
      "source": [
        "df_a.loc[:,['B大学','C大学']]"
      ]
    },
    {
      "cell_type": "code",
      "execution_count": null,
      "id": "c8d7baca",
      "metadata": {
        "id": "c8d7baca"
      },
      "outputs": [],
      "source": [
        "df_a.loc['2019年':'2021年',['B大学','C大学']]"
      ]
    },
    {
      "cell_type": "code",
      "execution_count": null,
      "id": "9450b764",
      "metadata": {
        "id": "9450b764"
      },
      "outputs": [],
      "source": [
        "df_a.iloc[[1,2,4],[0,2]]"
      ]
    },
    {
      "cell_type": "code",
      "execution_count": null,
      "id": "d1c52254",
      "metadata": {
        "id": "d1c52254"
      },
      "outputs": [],
      "source": [
        "# 条件を指定して行・列を取得します。\n",
        "df_a[df_a > 3001]"
      ]
    },
    {
      "cell_type": "code",
      "execution_count": null,
      "id": "9e2273c3",
      "metadata": {
        "id": "9e2273c3"
      },
      "outputs": [],
      "source": [
        "# 行の削除\n",
        "df_a.drop('2021年', axis=0)"
      ]
    },
    {
      "cell_type": "code",
      "execution_count": null,
      "id": "f5dbf3c9",
      "metadata": {
        "id": "f5dbf3c9"
      },
      "outputs": [],
      "source": [
        "# 列の削除\n",
        "df_a.drop('D大学', axis=1)"
      ]
    },
    {
      "cell_type": "markdown",
      "id": "e8cdeef5",
      "metadata": {
        "id": "e8cdeef5"
      },
      "source": [
        "## 3-1. データの結合"
      ]
    },
    {
      "cell_type": "code",
      "execution_count": null,
      "id": "11abb153",
      "metadata": {
        "scrolled": true,
        "id": "11abb153"
      },
      "outputs": [],
      "source": [
        "df_a = pd.read_csv(\"drive/My Drive/Colaboratory Notebook/test.csv\", index_col=0)\n",
        "df_a"
      ]
    },
    {
      "cell_type": "code",
      "execution_count": null,
      "id": "3504a0e2",
      "metadata": {
        "id": "3504a0e2"
      },
      "outputs": [],
      "source": [
        "df_b = pd.read_csv(\"drive/My Drive/Colaboratory Notebook/test_add1.csv\", index_col=0)\n",
        "df_b"
      ]
    },
    {
      "cell_type": "code",
      "execution_count": null,
      "id": "d60305ef",
      "metadata": {
        "id": "d60305ef"
      },
      "outputs": [],
      "source": [
        "df_c = pd.read_csv(\"drive/My Drive/Colaboratory Notebook/test_add2.csv\", index_col=0)\n",
        "df_c"
      ]
    },
    {
      "cell_type": "code",
      "execution_count": null,
      "id": "ef72eef2",
      "metadata": {
        "id": "ef72eef2"
      },
      "outputs": [],
      "source": [
        "# 横結合\n",
        "# インデックス（行ラベル）をキーに指定する場合は、引数left_index, right_indexをTrueとする。\n",
        "pd.merge(df_a, df_b, left_index=True, right_index=True)"
      ]
    },
    {
      "cell_type": "code",
      "execution_count": null,
      "id": "0e38e9cd",
      "metadata": {
        "id": "0e38e9cd"
      },
      "outputs": [],
      "source": [
        "# 縦結合\n",
        "pd.concat([df_a, df_c])"
      ]
    },
    {
      "cell_type": "markdown",
      "source": [
        "# 4. 欠損値の補完"
      ],
      "metadata": {
        "id": "hUjXMP_9ffQj"
      },
      "id": "hUjXMP_9ffQj"
    },
    {
      "cell_type": "code",
      "execution_count": null,
      "id": "d5e3a272",
      "metadata": {
        "id": "d5e3a272"
      },
      "outputs": [],
      "source": [
        "import numpy as np\n",
        "from numpy import nan as NA\n",
        "import pandas as pd\n",
        "\n",
        "from google.colab import drive\n",
        "drive.mount('/content/drive')\n",
        "\n",
        "df_miss = pd.read_csv(\"drive/My Drive/Colaboratory Notebook/test_miss.csv\", index_col=0)\n",
        "df_miss"
      ]
    },
    {
      "cell_type": "code",
      "source": [
        "# 欠損値有無の確認\n",
        "df_miss.isnull().sum()"
      ],
      "metadata": {
        "id": "CCOZEORffi2Q"
      },
      "id": "CCOZEORffi2Q",
      "execution_count": null,
      "outputs": []
    },
    {
      "cell_type": "code",
      "source": [
        "# リストワイズ削除\n",
        "# NaNのある行を全て削除\n",
        "df_miss.dropna()"
      ],
      "metadata": {
        "id": "IV_76AvMhCh7"
      },
      "id": "IV_76AvMhCh7",
      "execution_count": null,
      "outputs": []
    },
    {
      "cell_type": "code",
      "source": [
        "# fillna(値)で埋める\n",
        "df_miss.fillna(0)"
      ],
      "metadata": {
        "id": "-zOkLbeMhF11"
      },
      "id": "-zOkLbeMhF11",
      "execution_count": null,
      "outputs": []
    },
    {
      "cell_type": "code",
      "source": [
        "# 前の値で埋める\n",
        "df_miss.fillna(method = 'ffill') \n",
        "# 後ろの値で埋める\n",
        "# df_miss.fillna(method = 'bfill') "
      ],
      "metadata": {
        "id": "q8dSOIGvhHum"
      },
      "id": "q8dSOIGvhHum",
      "execution_count": null,
      "outputs": []
    },
    {
      "cell_type": "code",
      "source": [
        "# 前後の値から予測する\n",
        "df_miss.interpolate()"
      ],
      "metadata": {
        "id": "UYZ_EMRjhJoP"
      },
      "id": "UYZ_EMRjhJoP",
      "execution_count": null,
      "outputs": []
    },
    {
      "cell_type": "code",
      "source": [
        "# 平均で埋める\n",
        "# 平均値\n",
        "df_miss.mean()"
      ],
      "metadata": {
        "id": "zgKNECAdhLnc"
      },
      "id": "zgKNECAdhLnc",
      "execution_count": null,
      "outputs": []
    },
    {
      "cell_type": "code",
      "source": [
        "# 平均値で埋める\n",
        "df_miss.fillna(df_miss.mean())"
      ],
      "metadata": {
        "id": "dgVOeDCuhOHw"
      },
      "id": "dgVOeDCuhOHw",
      "execution_count": null,
      "outputs": []
    },
    {
      "cell_type": "code",
      "source": [
        ""
      ],
      "metadata": {
        "id": "aNGnFRW1hQGA"
      },
      "id": "aNGnFRW1hQGA",
      "execution_count": null,
      "outputs": []
    }
  ],
  "metadata": {
    "kernelspec": {
      "display_name": "Python 3 (ipykernel)",
      "language": "python",
      "name": "python3"
    },
    "language_info": {
      "codemirror_mode": {
        "name": "ipython",
        "version": 3
      },
      "file_extension": ".py",
      "mimetype": "text/x-python",
      "name": "python",
      "nbconvert_exporter": "python",
      "pygments_lexer": "ipython3",
      "version": "3.7.11"
    },
    "colab": {
      "name": "py_practice_array_googlecolab.ipynb",
      "provenance": [],
      "toc_visible": true,
      "collapsed_sections": []
    }
  },
  "nbformat": 4,
  "nbformat_minor": 5
}